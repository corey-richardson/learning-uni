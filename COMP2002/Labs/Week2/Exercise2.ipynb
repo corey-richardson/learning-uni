{
 "cells": [
  {
   "cell_type": "markdown",
   "id": "65e11c7b",
   "metadata": {},
   "source": [
    "# Exercise 2 - Decision Trees\n",
    "\n",
    "Import the required modules."
   ]
  },
  {
   "cell_type": "code",
   "execution_count": null,
   "id": "9808714e-0380-481a-81ec-a3e409fb6e09",
   "metadata": {},
   "outputs": [],
   "source": [
    "from sklearn.model_selection import train_test_split\n",
    "from sklearn.tree import DecisionTreeClassifier\n",
    "from sklearn.datasets import load_breast_cancer"
   ]
  },
  {
   "cell_type": "markdown",
   "id": "02a4509d",
   "metadata": {},
   "source": [
    "We will be using the Breast Cancer dataset and we will be splitting the data into two sets - one for training\n",
    "and the other for testing."
   ]
  },
  {
   "cell_type": "code",
   "execution_count": null,
   "id": "b0f7200f",
   "metadata": {},
   "outputs": [],
   "source": [
    "cancer = load_breast_cancer()\n",
    "X_train, X_test, y_train, y_test = train_test_split(cancer.data, cancer.target, stratify=cancer.target,\n",
    "                                                    random_state=42)"
   ]
  },
  {
   "cell_type": "markdown",
   "id": "065620d8",
   "metadata": {},
   "source": [
    "Now that the data is split, we can fit the model."
   ]
  },
  {
   "cell_type": "code",
   "execution_count": null,
   "id": "82d97e91",
   "metadata": {},
   "outputs": [],
   "source": [
    "tree = DecisionTreeClassifier(random_state=0)\n",
    "tree.fit(X_train, y_train)"
   ]
  },
  {
   "cell_type": "markdown",
   "id": "0389288c",
   "metadata": {},
   "source": [
    "Decision trees can be prone to overfitting."
   ]
  },
  {
   "cell_type": "code",
   "execution_count": null,
   "id": "73b8e16b",
   "metadata": {},
   "outputs": [],
   "source": [
    "print(\" Training set accuracy: {:. 3f}\".format(tree.score(X_train, y_train )))\n",
    "print(\" Test set accuracy: {:. 3f}\".format(tree.score(X_test, y_test )))"
   ]
  }
 ],
 "metadata": {
  "kernelspec": {
   "display_name": "Python 3 (ipykernel)",
   "language": "python",
   "name": "python3"
  },
  "language_info": {
   "codemirror_mode": {
    "name": "ipython",
    "version": 3
   },
   "file_extension": ".py",
   "mimetype": "text/x-python",
   "name": "python",
   "nbconvert_exporter": "python",
   "pygments_lexer": "ipython3",
   "version": "3.11.1"
  }
 },
 "nbformat": 4,
 "nbformat_minor": 5
}
