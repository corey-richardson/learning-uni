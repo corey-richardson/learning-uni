{
 "cells": [
  {
   "cell_type": "markdown",
   "id": "c41278db",
   "metadata": {},
   "source": [
    "# Basics of Python"
   ]
  },
  {
   "cell_type": "markdown",
   "id": "d5e319c8",
   "metadata": {},
   "source": [
    "Create a simple 1-D array in Python of length 7."
   ]
  },
  {
   "cell_type": "code",
   "execution_count": 16,
   "id": "a0454b69-179e-40de-ab48-8563f1c75b2d",
   "metadata": {},
   "outputs": [],
   "source": [
    "arr = [i for i in range(7)]"
   ]
  },
  {
   "cell_type": "markdown",
   "id": "192a64a1",
   "metadata": {},
   "source": [
    "Check the length of your array.\n"
   ]
  },
  {
   "cell_type": "code",
   "execution_count": 17,
   "id": "a008aeda",
   "metadata": {},
   "outputs": [
    {
     "data": {
      "text/plain": [
       "7"
      ]
     },
     "execution_count": 17,
     "metadata": {},
     "output_type": "execute_result"
    }
   ],
   "source": [
    "len(arr)"
   ]
  },
  {
   "cell_type": "markdown",
   "id": "a33ce69b",
   "metadata": {},
   "source": [
    "Select just the fourth element of your array."
   ]
  },
  {
   "cell_type": "code",
   "execution_count": 18,
   "id": "4ca1d5ba",
   "metadata": {},
   "outputs": [
    {
     "data": {
      "text/plain": [
       "4"
      ]
     },
     "execution_count": 18,
     "metadata": {},
     "output_type": "execute_result"
    }
   ],
   "source": [
    "arr[4]"
   ]
  },
  {
   "cell_type": "markdown",
   "id": "6f9e9990",
   "metadata": {},
   "source": [
    "Add an element to your array and check the length to ensure it has been added successfully.\n"
   ]
  },
  {
   "cell_type": "code",
   "execution_count": 19,
   "id": "16117f68",
   "metadata": {},
   "outputs": [
    {
     "data": {
      "text/plain": [
       "8"
      ]
     },
     "execution_count": 19,
     "metadata": {},
     "output_type": "execute_result"
    }
   ],
   "source": [
    "arr.append(8)\n",
    "len(arr)"
   ]
  },
  {
   "cell_type": "markdown",
   "id": "49aabd31",
   "metadata": {},
   "source": [
    "Remove the second element of your array."
   ]
  },
  {
   "cell_type": "code",
   "execution_count": 20,
   "id": "638d7ebc",
   "metadata": {},
   "outputs": [
    {
     "name": "stdout",
     "output_type": "stream",
     "text": [
      "[0, 2, 3, 4, 5, 6, 8]\n"
     ]
    }
   ],
   "source": [
    "arr.pop(1)\n",
    "print(arr)"
   ]
  }
 ],
 "metadata": {
  "kernelspec": {
   "display_name": "Python 3",
   "language": "python",
   "name": "python3"
  },
  "language_info": {
   "codemirror_mode": {
    "name": "ipython",
    "version": 3
   },
   "file_extension": ".py",
   "mimetype": "text/x-python",
   "name": "python",
   "nbconvert_exporter": "python",
   "pygments_lexer": "ipython3",
   "version": "3.12.2"
  }
 },
 "nbformat": 4,
 "nbformat_minor": 5
}
