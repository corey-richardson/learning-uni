{
 "cells": [
  {
   "cell_type": "markdown",
   "metadata": {},
   "source": [
    "# Bubble Sort\n",
    "\n",
    "Write a function called bubble that takes a list of values and performs the bubble sort algorithm in-place (meaning you don’t return anything, the sort is performed on the variable you pass in). \n",
    "\n",
    "Once you’ve implemented the function, call it by passing a list of values to assure yourself that it works.\n"
   ]
  },
  {
   "cell_type": "code",
   "execution_count": 22,
   "metadata": {},
   "outputs": [],
   "source": [
    "import random"
   ]
  },
  {
   "cell_type": "code",
   "execution_count": 23,
   "metadata": {},
   "outputs": [],
   "source": [
    "def swap(arr, index_1, index_2):\n",
    "  temp = arr[index_1]\n",
    "  arr[index_1] = arr[index_2]\n",
    "  arr[index_2] = temp\n",
    "\n",
    "def bubble_sort(arr):\n",
    "  for i in range(len(arr)):\n",
    "    for idx in range(len(arr) - i - 1):\n",
    "      if arr[idx] > arr[idx + 1]:\n",
    "        arr[idx], arr[idx + 1] = arr[idx + 1], arr[idx]"
   ]
  },
  {
   "cell_type": "code",
   "execution_count": 24,
   "metadata": {},
   "outputs": [
    {
     "name": "stdout",
     "output_type": "stream",
     "text": [
      "[76, 3, 53, 56, 48, 95, 14, 86, 71, 51, 17, 3, 58, 89, 59, 54, 24, 1, 98, 76, 35, 77, 33, 55, 14, 82, 100, 13, 7, 48, 53, 38, 44, 100, 68, 37, 43, 84, 62, 84, 20, 7, 87, 30, 85, 88, 23, 76, 15, 46]\n"
     ]
    }
   ],
   "source": [
    "unsorted = [random.randint(0, 100) for i in range(50)]\n",
    "print(unsorted)"
   ]
  },
  {
   "cell_type": "code",
   "execution_count": 25,
   "metadata": {},
   "outputs": [
    {
     "name": "stdout",
     "output_type": "stream",
     "text": [
      "[1, 3, 3, 7, 7, 13, 14, 14, 15, 17, 20, 23, 24, 30, 33, 35, 37, 38, 43, 44, 46, 48, 48, 51, 53, 53, 54, 55, 56, 58, 59, 62, 68, 71, 76, 76, 76, 77, 82, 84, 84, 85, 86, 87, 88, 89, 95, 98, 100, 100]\n"
     ]
    }
   ],
   "source": [
    "bubble_sort(unsorted)\n",
    "print(unsorted)"
   ]
  }
 ],
 "metadata": {
  "kernelspec": {
   "display_name": "Python 3",
   "language": "python",
   "name": "python3"
  },
  "language_info": {
   "codemirror_mode": {
    "name": "ipython",
    "version": 3
   },
   "file_extension": ".py",
   "mimetype": "text/x-python",
   "name": "python",
   "nbconvert_exporter": "python",
   "pygments_lexer": "ipython3",
   "version": "3.12.2"
  }
 },
 "nbformat": 4,
 "nbformat_minor": 2
}
