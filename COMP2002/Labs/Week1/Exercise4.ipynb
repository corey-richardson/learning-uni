{
 "cells": [
  {
   "cell_type": "markdown",
   "metadata": {},
   "source": [
    "# Fibonacci Sequence"
   ]
  },
  {
   "cell_type": "markdown",
   "metadata": {},
   "source": [
    "The Fibonacci sequence is a mathematical progression wherein each element is the sum of the previous two\n",
    "elements. Write a function `fibonacci` that takes an argument `N` and returns a list containing the first `N`\n",
    "Fibonacci numbers.\n"
   ]
  },
  {
   "cell_type": "code",
   "execution_count": 16,
   "metadata": {},
   "outputs": [
    {
     "name": "stdout",
     "output_type": "stream",
     "text": [
      "55\n"
     ]
    }
   ],
   "source": [
    "def fibonacci(N):\n",
    "    if N == 0 or N == 1:\n",
    "        return N\n",
    "    return fibonacci(N-1) + fibonacci(N-2)\n",
    "\n",
    "fib = fibonacci(10)\n",
    "print(fib)"
   ]
  },
  {
   "cell_type": "code",
   "execution_count": 17,
   "metadata": {},
   "outputs": [
    {
     "name": "stdout",
     "output_type": "stream",
     "text": [
      "55\n"
     ]
    }
   ],
   "source": [
    "memo = {}\n",
    "\n",
    "def memoized_fibonacci(N):\n",
    "  if N in memo:\n",
    "    return memo[N]\n",
    "\n",
    "  if N == 0 or N == 1:\n",
    "    return N\n",
    "  else:\n",
    "    return memoized_fibonacci(N-1) + memoized_fibonacci(N-2)\n",
    "\n",
    "print(memoized_fibonacci(10))"
   ]
  },
  {
   "cell_type": "code",
   "execution_count": 18,
   "metadata": {},
   "outputs": [
    {
     "name": "stdout",
     "output_type": "stream",
     "text": [
      "[0, 1, 1, 2, 3, 5, 8, 13, 21, 34]\n",
      "[0, 1, 1, 2, 3, 5, 8, 13, 21, 34]\n"
     ]
    }
   ],
   "source": [
    "N = 10\n",
    "\n",
    "fib =   [fibonacci(n) for n in range(N)]\n",
    "fib_m = [memoized_fibonacci(n) for n in range(N)]\n",
    "\n",
    "print(fib)\n",
    "print(fib_m)"
   ]
  }
 ],
 "metadata": {
  "kernelspec": {
   "display_name": "Python 3",
   "language": "python",
   "name": "python3"
  },
  "language_info": {
   "codemirror_mode": {
    "name": "ipython",
    "version": 3
   },
   "file_extension": ".py",
   "mimetype": "text/x-python",
   "name": "python",
   "nbconvert_exporter": "python",
   "pygments_lexer": "ipython3",
   "version": "3.12.2"
  }
 },
 "nbformat": 4,
 "nbformat_minor": 2
}
